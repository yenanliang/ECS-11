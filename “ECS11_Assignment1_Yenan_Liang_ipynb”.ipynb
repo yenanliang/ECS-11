{
  "nbformat": 4,
  "nbformat_minor": 0,
  "metadata": {
    "colab": {
      "provenance": [],
      "include_colab_link": true
    },
    "kernelspec": {
      "name": "python3",
      "display_name": "Python 3"
    },
    "language_info": {
      "name": "python"
    }
  },
  "cells": [
    {
      "cell_type": "markdown",
      "metadata": {
        "id": "view-in-github",
        "colab_type": "text"
      },
      "source": [
        "<a href=\"https://colab.research.google.com/github/yenanliang/ECS-11/blob/main/%E2%80%9CECS11_Assignment1_Yenan_Liang_ipynb%E2%80%9D.ipynb\" target=\"_parent\"><img src=\"https://colab.research.google.com/assets/colab-badge.svg\" alt=\"Open In Colab\"/></a>"
      ]
    },
    {
      "cell_type": "markdown",
      "source": [
        "# ECS 11 Assignment 1\n",
        "\n",
        "In this assignment, you will:\n",
        "1. Set up and use Google Colab\n",
        "2. Use Markdown and LaTeX for mathematical notation\n",
        "3. Practice basic Python programming\n",
        "4. Solve basic probability problems\n",
        "5. Reflect on introductory AI concepts"
      ],
      "metadata": {
        "id": "ip2bj1ssb2Pw"
      }
    },
    {
      "cell_type": "code",
      "source": [],
      "metadata": {
        "id": "5FxRUF27-7QJ"
      },
      "execution_count": null,
      "outputs": []
    },
    {
      "cell_type": "markdown",
      "source": [
        "## Part 1: Getting Started with Google Colab (30 points)"
      ],
      "metadata": {
        "id": "FwXeWBYNcIN7"
      }
    },
    {
      "cell_type": "markdown",
      "source": [
        "1.1. Go to [Google Colab](https://colab.research.google.com/) logged in to your UC Davis email\n",
        "\n",
        "1.2. Create a new notebook\n",
        "\n",
        "1.3. Rename it to \"ECS11_Assignment1_FirstName_LastName\""
      ],
      "metadata": {
        "id": "FGWYm9sEcNy-"
      }
    },
    {
      "cell_type": "markdown",
      "source": [
        "## Part 2: Probability Theory (40 points)"
      ],
      "metadata": {
        "id": "xqwBmGyIcYAe"
      }
    },
    {
      "cell_type": "markdown",
      "source": [
        "\n",
        "### 2.1 Basic Probability and scientific computing\n",
        "**2.1.** Consider you are rolling two dice, and the random variable $X$ being measured is the sum of the outcome of the two dice.  In a code cell, list the sample space $S$ for this problem using set notation, and also indicate the size of the sample space $|S|$. This should be written in LaTex code.\n",
        "\n",
        "$S=\\{ (i, j) \\mid i \\in \\{1, 2, 3, 4, 5, 6\\},\\ j \\in \\{1, 2, 3, 4, 5, 6\\} \\}$\n",
        "\n",
        "$|S|=36$\n",
        "\n",
        "**2.2.** Consider you are flipping an unbiased coin twice in a row. The outcome of the first flip is denoted by $X_1$ and the second by $X_2$.  In a code cell, list the sample space $S$ for this problem using set notation, each element of the $S$ will be an $(X_1,X_2)$ pair.\n",
        "\n",
        "$S=\\{ (H, H),\\ (H, T),\\ (T, H),\\ (T, T) \\}$\n",
        "\n",
        "$|S|=4$\n",
        "\n",
        "\n",
        "**2.3.** Consider the outcome $A$ that both flips are Heads. What is the probability $P(A)$? Write your answer in a code cell with LaTex.  \n",
        "\n",
        "$P(A)=\\frac{1}{4}$\n",
        "\n",
        "**2.4.** Now consider that the you are given the information that the outcome of the first flip was $X_1$ = Heads.  What is the conditional probability $P(X_2|X_1)$=Heads? *(The notation used means what is the probability that $X_2$ is Heads given the information of the outcome of the first role $X_1$.)*\n",
        "\n",
        "$S_\\text{conditional}=\\{(H,H).(H,T)\\}$\n",
        "##### Only one outcome (H,H)\n",
        "\n",
        "$P(X_2=\\text{Heads}|X_1=\\text{Heads})=\\frac{1}{2}$\n",
        "\n",
        "**2.5.** Consider that you are flipping the unbiased coin 10 times. Let $C$ denote the outcome that all ten flips are Heads. What is $P(C)$? This is in two parts: (i) create a code cell and execute the necessary python code to compute the answer; (ii) create a code cell and use LaTex to write out the anwer to the question. *(Help for this problem will be given in Discussion D2)*\n",
        "### (ii)\n",
        "$P(C) = \\left( \\frac{1}{2} \\right)^{10} = \\frac{1}{1024} \\approx 0.0009765625$"
      ],
      "metadata": {
        "id": "ExcWqmpVca8V"
      }
    },
    {
      "cell_type": "code",
      "source": [
        "# (i)\n",
        "prob = (1/2)**10\n",
        "print(prob)"
      ],
      "metadata": {
        "colab": {
          "base_uri": "https://localhost:8080/"
        },
        "id": "GKdA_XKSig9q",
        "outputId": "12b9d6fa-4a43-47ac-b896-224fbac57259"
      },
      "execution_count": null,
      "outputs": [
        {
          "output_type": "stream",
          "name": "stdout",
          "text": [
            "0.0009765625\n"
          ]
        }
      ]
    },
    {
      "cell_type": "markdown",
      "source": [
        "## Part 3: Reflective Questions (30 points)\n",
        "\n",
        "### 3.1 AI Art and Meaning (10 points)\n",
        "In the Prologue to Artificial Intelligence for Thinking Humans, Melanie Mitchell describes Douglas Hofstader's concerned reaction to music produced by a computational system. Reflect on this experience and how it relates to your own. Consider some of the following prompts, and respond in 125-175 words.\n",
        "\n",
        "- What do you think about AI art?\n",
        "- Are you concerned or excited about the prospect of AI art?\n",
        "- Can AI art be meaningful?\n",
        "\n",
        "3.1 Douglas Hofstadter’s reaction to AI-composed music, as described in Melanie Mitchell’s prologue, resonated with me deeply. Hofstadter was “terrified” after playing a piece composed by EMI that convincingly mimicked Chopin, not because it was bad, but because it was too good—and thus threatened his view of human uniqueness. I find myself both fascinated and uneasy by AI art for similar reasons. On one hand, AI-generated art can be remarkably creative, opening doors for new expressions and democratizing access to creative tools. On the other hand, I worry that if machines can replicate deeply human expressions like music or painting through pattern manipulation, it challenges what we consider authentic or meaningful.\n",
        "\n",
        "Still, I believe AI art can be meaningful—but its meaning often lies not in the intent behind it, but in the human interpretation and reaction. Meaning, after all, is something we ascribe. Whether created by human or machine, if art stirs emotion or provokes thought, perhaps that’s enough.\n",
        "\n",
        "### 3.2 What is \"understanding\"? (10 points)\n",
        "In the Chinese Room thought experiment, John Searle argues that a system involving a translator (non-Chinese speaking) equipped with a translation manual does not understand Chinese, despite displaying some appearance of understanding.\n",
        "\n",
        "Do you agree with Searle's claim? Is the Chinese Room a good analogy for today's AI systems, like ChatGPT? What kind of evidence would it take to change your opinion? Respond in 125-175 words.\n",
        "\n",
        "3.2 I mostly agree with Searle’s argument in the Chinese Room thought experiment. Just like the man inside the room follows instructions without truly understanding Chinese, today’s AI systems, like ChatGPT, generate responses based on patterns and rules, not understanding. They don’t “know” what they’re saying—they’re just very good at predicting what words should come next. This is why I think the Chinese Room is still a good analogy for modern AI.\n",
        "\n",
        "However, I also think our standards for “understanding” could evolve. If an AI consistently responds in a meaningful and helpful way, some might say that counts as a kind of understanding—even if it’s not like human understanding.\n",
        "\n",
        "To change my opinion, I’d need strong evidence that an AI can form intentions, reflect on its own responses, or explain why it gave a certain answer in a way that shows true awareness—not just repeating patterns it learned. That would suggest something deeper than symbol manipulation.\n",
        "\n",
        "\n",
        "### 3.3 AI history (10 points)\n",
        "What did you learn about the history of AI from the Russel & Norvig readings? Were you surprised about anything in the history of AI development? Respond in 125-175 words.\n",
        "\n",
        "3.3 From the Russell & Norvig reading, I learned that the history of AI has gone through many exciting phases—starting with early neural network models in the 1940s, to symbolic reasoning in the 1950s and '60s, expert systems in the '80s, and finally machine learning and deep learning in recent decades. I was especially surprised to learn that many ideas, like neural networks and reinforcement learning, were invented much earlier than I thought. For example, the backpropagation algorithm that drives deep learning today was actually known in the 1960s but didn’t gain traction until the 1980s.\n",
        "\n",
        "I also found it interesting that AI has gone through multiple \"winters,\" when people lost interest because progress didn’t meet the high expectations. The field has a history of big dreams and big setbacks—but also amazing comebacks. The shift toward data-driven approaches and probabilistic reasoning in the 1990s and 2000s really changed AI from a hopeful idea into something practical and powerful.\n"
      ],
      "metadata": {
        "id": "YKE4DZXicweP"
      }
    },
    {
      "cell_type": "markdown",
      "source": [
        "## Part 4: AI Attestation\n",
        "In a markdown cell, describe how you used AI to complete this assignment in 100 words or less.\n",
        "\n",
        "I used AI to help me with Part 3 of the assignment, especially for summarizing and understanding long and complex readings like the Russell & Norvig and Searle texts. The readings were dense and detailed, so AI helped me identify key points and rephrase them in simpler language. I did not use AI for Part 2 and I completed that section entirely on my own."
      ],
      "metadata": {
        "id": "AmNdLm_AclYm"
      }
    },
    {
      "cell_type": "markdown",
      "source": [],
      "metadata": {
        "id": "BvMaPaA4je4u"
      }
    },
    {
      "cell_type": "code",
      "source": [],
      "metadata": {
        "id": "7UcwF_oMcaTW"
      },
      "execution_count": null,
      "outputs": []
    }
  ]
}